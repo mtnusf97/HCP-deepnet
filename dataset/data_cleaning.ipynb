{
 "cells": [
  {
   "cell_type": "code",
   "execution_count": 1,
   "metadata": {},
   "outputs": [],
   "source": [
    "import scipy.io\n",
    "import pandas as pd\n",
    "import numpy as np\n",
    "import os\n",
    "import pickle\n",
    "from tqdm import tqdm\n",
    "from sys import getsizeof"
   ]
  },
  {
   "cell_type": "code",
   "execution_count": 2,
   "metadata": {},
   "outputs": [],
   "source": [
    "def data_maker(subject_path, window_size=50, overlap=0):\n",
    "    df = None\n",
    "    for session_path in os.listdir(subject_path):\n",
    "        mat_path = os.path.join(subject_path, session_path, 'atlas_rfMRI.mat')\n",
    "        mat = scipy.io.loadmat(mat_path) \n",
    "        data = np.array(mat['ts'])[19:,:]\n",
    "        labels = mat['labels'][19:]\n",
    "        _df = pd.DataFrame(data=data.T, columns=labels)\n",
    "        df = pd.concat([df, _df])\n",
    "    df.reset_index(drop=True, inplace=True)\n",
    "    \n",
    "    \n",
    "    num_windows = df.shape[0]//(window_size - overlap)\n",
    "    initial_indexes = [i * window_size for i in np.arange(num_windows)]\n",
    "    corr_res = []\n",
    "    for init_window in initial_indexes:\n",
    "        part_df = df[init_window:init_window + window_size]\n",
    "        _corr = np.corrcoef(df.T)\n",
    "        _flat_corr = []\n",
    "        for i in range(_corr.shape[0]):\n",
    "            for j in range(i+1, _corr.shape[1]):\n",
    "                _flat_corr.append(_corr[i, j])\n",
    "        corr_res.append(_flat_corr)\n",
    "        \n",
    "    return np.array(corr_res)"
   ]
  },
  {
   "cell_type": "code",
   "execution_count": 3,
   "metadata": {},
   "outputs": [],
   "source": [
    "df_behav = pd.read_csv('behavioural_data.csv')"
   ]
  },
  {
   "cell_type": "code",
   "execution_count": 6,
   "metadata": {},
   "outputs": [
    {
     "name": "stderr",
     "output_type": "stream",
     "text": [
      " 88%|████████▊ | 174/198 [15:49<02:07,  5.31s/it]"
     ]
    },
    {
     "name": "stdout",
     "output_type": "stream",
     "text": [
      "140420 was rejected! 94\n"
     ]
    },
    {
     "name": "stderr",
     "output_type": "stream",
     "text": [
      "100%|██████████| 198/198 [17:54<00:00,  5.43s/it]\n"
     ]
    }
   ],
   "source": [
    "path_read = '/home/matin/school/Amir_Omidvarnia/HCP_data'\n",
    "path_write = '/home/matin/school/Amir_Omidvarnia/gender_data'\n",
    "\n",
    "for subject_path in tqdm(os.listdir(path_read)):\n",
    "    gender = 1 if df_behav[df_behav['Subject'] == int(subject_path)]['Gender'].values[0] == 'M' else 0\n",
    "    \n",
    "    subject_read_path = os.path.join(path_read, subject_path)\n",
    "    data = data_maker(subject_read_path, 50)\n",
    "    if data.shape[0] == 96:\n",
    "        res = {}\n",
    "        res['data'] = data\n",
    "        res['target'] = gender\n",
    "        subject_write_path = os.path.join(path_write, subject_path)\n",
    "        file_to_write = open(subject_write_path + '.pkl', \"wb\")\n",
    "        pickle.dump(res, file_to_write)\n",
    "    else:\n",
    "        print(subject_path + ' was rejected!', data.shape[0])"
   ]
  },
  {
   "cell_type": "code",
   "execution_count": 8,
   "metadata": {},
   "outputs": [
    {
     "name": "stdout",
     "output_type": "stream",
     "text": [
      "{0: '103414.pkl', 1: '106016.pkl', 2: '101309.pkl', 3: '115017.pkl', 4: '117122.pkl', 5: '105014.pkl', 6: '137633.pkl', 7: '114318.pkl', 8: '124220.pkl', 9: '100408.pkl', 10: '140117.pkl', 11: '108828.pkl', 12: '144226.pkl', 13: '128127.pkl', 14: '102715.pkl', 15: '119126.pkl', 16: '130821.pkl'}\n"
     ]
    }
   ],
   "source": [
    "path = '/home/matin/school/Amir_Omidvarnia/gender_data'\n",
    "\n",
    "names_train = {}\n",
    "names_test = {}\n",
    "for i, j in enumerate(os.listdir(path)):\n",
    "    if i <180:\n",
    "        names_train[i] = j\n",
    "    else:\n",
    "        names_test[i-180] = j\n",
    "    \n",
    "save_path = '/home/matin/school/Amir_Omidvarnia/data_idx2name_train'\n",
    "file_to_write = open(save_path + '.pkl', \"wb\")\n",
    "pickle.dump(names_train, file_to_write)\n",
    "\n",
    "print(names_test)\n",
    "save_path2 = '/home/matin/school/Amir_Omidvarnia/data_idx2name_test'\n",
    "file_to_write2 = open(save_path2 + '.pkl', \"wb\")\n",
    "pickle.dump(names_test, file_to_write2)"
   ]
  },
  {
   "cell_type": "code",
   "execution_count": null,
   "metadata": {},
   "outputs": [],
   "source": []
  }
 ],
 "metadata": {
  "kernelspec": {
   "display_name": "Python 3",
   "language": "python",
   "name": "python3"
  },
  "language_info": {
   "codemirror_mode": {
    "name": "ipython",
    "version": 3
   },
   "file_extension": ".py",
   "mimetype": "text/x-python",
   "name": "python",
   "nbconvert_exporter": "python",
   "pygments_lexer": "ipython3",
   "version": "3.8.10"
  }
 },
 "nbformat": 4,
 "nbformat_minor": 4
}

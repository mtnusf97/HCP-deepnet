{
 "cells": [
  {
   "cell_type": "code",
   "execution_count": 1,
   "metadata": {},
   "outputs": [],
   "source": [
    "import scipy.io\n",
    "import pandas as pd\n",
    "import numpy as np\n",
    "import os\n",
    "import pickle\n",
    "from tqdm import tqdm\n",
    "from sys import getsizeof"
   ]
  },
  {
   "cell_type": "code",
   "execution_count": 2,
   "metadata": {},
   "outputs": [],
   "source": [
    "def data_maker(subject_path, window_size=50, overlap=0):\n",
    "    df = None\n",
    "    for session_path in os.listdir(subject_path):\n",
    "        mat_path = os.path.join(subject_path, session_path, 'atlas_rfMRI.mat')\n",
    "        mat = scipy.io.loadmat(mat_path) \n",
    "        data = np.array(mat['ts'])[19:,:]\n",
    "        labels = mat['labels'][19:]\n",
    "        _df = pd.DataFrame(data=data.T, columns=labels)\n",
    "        df = pd.concat([df, _df])\n",
    "    df.reset_index(drop=True, inplace=True)\n",
    "    \n",
    "    \n",
    "    num_windows = df.shape[0]//(window_size - overlap)\n",
    "    initial_indexes = [i * window_size for i in np.arange(num_windows)]\n",
    "    corr_res = []\n",
    "    for init_window in initial_indexes:\n",
    "        part_df = df[init_window:init_window + window_size]\n",
    "        _corr = np.corrcoef(df.T)\n",
    "        _flat_corr = []\n",
    "        for i in range(_corr.shape[0]):\n",
    "            for j in range(i+1, _corr.shape[1]):\n",
    "                _flat_corr.append(_corr[i, j])\n",
    "        corr_res.append(_flat_corr)\n",
    "        \n",
    "    return np.array(corr_res)\n",
    "    'CardSort_Unad',\n",
    "    'ProcSpeed_AgeAd',\n"
   ]
  },
  {
   "cell_type": "code",
   "execution_count": 3,
   "metadata": {},
   "outputs": [],
   "source": [
    "excluded = ['CardSort_Unad', 'ProcSpeed_AgeAd']\n",
    "\n",
    "behav_measures = [\n",
    "    'Subject',\n",
    "    'Gender',\n",
    "    'Flanker_Unadj',\n",
    "    'WM_Task_Acc',\n",
    "    'PMAT24_A_CR',\n",
    "    'MMSE_Score',\n",
    "    'PSQI_AmtSleep',\n",
    "    'PicSeq_Unadj',\n",
    "    'ReadEng_Unadj',\n",
    "    'PicVocab_Unadj',\n",
    "    'DDisc_AUC_200',\n",
    "    'DDisc_AUC_40K',\n",
    "    'VSPLOT_CRTE',\n",
    "    'SCPT_SEN',\n",
    "    'SCPT_SPEC',\n",
    "    'IWRD_TOT',\n",
    "    'IWRD_RTC',\n",
    "    'ER40ANG',\n",
    "    'ER40HAP',\n",
    "    'ER40FEAR',\n",
    "    'ER40SAD',\n",
    "    'ER40NOE',\n",
    "    'AngAffect_Unadj',\n",
    "    'AngAggr_Unadj',\n",
    "    'AngHostil_Unadj',\n",
    "    'FearAffect_Unadj',\n",
    "    'FearSomat_Unadj',\n",
    "    'Sadness_Unadj',\n",
    "    'LifeSatisf_Unadj',\n",
    "    'PosAffect_Unadj',\n",
    "    'Friendship_Unadj',\n",
    "    'Loneliness_Unadj',\n",
    "    'PercHostil_Unadj',\n",
    "    'PercReject_Unadj',\n",
    "    'PercStress_Unadj',\n",
    "    'EmotSupp_Unadj',\n",
    "    'InstruSupp_Unadj',\n",
    "    'SelfEff_Unadj',\n",
    "    'Emotion_Task_Acc',\n",
    "    'Language_Task_Acc',\n",
    "    'Relational_Task_Acc',\n",
    "    'Social_Task_Perc_NLR',\n",
    "    'Social_Task_Perc_Random',\n",
    "    'Social_Task_Perc_TOM',\n",
    "    'Social_Task_Perc_Unsure',\n",
    "    'NEOFAC_A',\n",
    "    'NEOFAC_C',\n",
    "    'NEOFAC_E',\n",
    "    'NEOFAC_N',\n",
    "    'NEOFAC_O']"
   ]
  },
  {
   "cell_type": "code",
   "execution_count": 4,
   "metadata": {},
   "outputs": [
    {
     "name": "stderr",
     "output_type": "stream",
     "text": [
      "<ipython-input-4-746f34e0b9d9>:4: SettingWithCopyWarning: \n",
      "A value is trying to be set on a copy of a slice from a DataFrame\n",
      "\n",
      "See the caveats in the documentation: https://pandas.pydata.org/pandas-docs/stable/user_guide/indexing.html#returning-a-view-versus-a-copy\n",
      "  df_behav_measures.dropna(inplace=True)\n"
     ]
    }
   ],
   "source": [
    "df_behav = pd.read_csv('behavioural_data.csv')\n",
    "\n",
    "df_behav_measures = df_behav[behav_measures]\n",
    "df_behav_measures.dropna(inplace=True)"
   ]
  },
  {
   "cell_type": "code",
   "execution_count": 6,
   "metadata": {},
   "outputs": [
    {
     "name": "stderr",
     "output_type": "stream",
     "text": [
      " 85%|████████▌ | 17/20 [02:14<00:28,  9.54s/it]"
     ]
    },
    {
     "name": "stdout",
     "output_type": "stream",
     "text": [
      "103010 was rejected!\n"
     ]
    },
    {
     "name": "stderr",
     "output_type": "stream",
     "text": [
      "100%|██████████| 20/20 [02:33<00:00,  7.66s/it]\n"
     ]
    }
   ],
   "source": [
    "path_read = '/home/matin/school/Amir_Omidvarnia/HCP_data'\n",
    "path_write = '/home/matin/school/Amir_Omidvarnia/prepared_data/'\n",
    "\n",
    "for subject_path in tqdm(os.listdir(path_read)):\n",
    "    if int(subject_path) in df_behav_measures['Subject'].values:\n",
    "        \n",
    "        gender = 1 if df_behav_measures[df_behav_measures['Subject'] == int(subject_path)]['Gender'].values[0] == 'M' else 0\n",
    "\n",
    "        subject_read_path = os.path.join(path_read, subject_path)\n",
    "        data = data_maker(subject_read_path, 50)\n",
    "        if data.shape[0] == 96:\n",
    "            res = {}\n",
    "            res['data'] = data\n",
    "            res['gender'] = gender\n",
    "            for measure in behav_measures:\n",
    "                res[measure] = df_behav_measures[df_behav_measures['Subject'] == int(subject_path)][measure].values[0]\n",
    "\n",
    "            subject_write_path = os.path.join(path_write, subject_path)\n",
    "            file_to_write = open(subject_write_path + '.pkl', \"wb\")\n",
    "            pickle.dump(res, file_to_write)\n",
    "        else:\n",
    "            print(subject_path + ' was rejected!', data.shape[0])\n",
    "    else:\n",
    "        print(subject_path + ' was rejected!')"
   ]
  },
  {
   "cell_type": "code",
   "execution_count": 8,
   "metadata": {},
   "outputs": [
    {
     "name": "stdout",
     "output_type": "stream",
     "text": [
      "{}\n"
     ]
    }
   ],
   "source": [
    "path = '/home/matin/school/Amir_Omidvarnia/prepared_data/'\n",
    "\n",
    "names_train = {}\n",
    "names_test = {}\n",
    "for i, j in enumerate(os.listdir(path)):\n",
    "    if i <198:\n",
    "        names_train[i] = j\n",
    "    else:\n",
    "        names_test[i-198] = j\n",
    "    \n",
    "save_path = '/home/matin/school/Amir_Omidvarnia/data_idx2name_train'\n",
    "file_to_write = open(save_path + '.pkl', \"wb\")\n",
    "pickle.dump(names_train, file_to_write)\n",
    "\n",
    "print(names_test)\n",
    "save_path2 = '/home/matin/school/Amir_Omidvarnia/data_idx2name_test'\n",
    "file_to_write2 = open(save_path2 + '.pkl', \"wb\")\n",
    "pickle.dump(names_test, file_to_write2)"
   ]
  }
 ],
 "metadata": {
  "kernelspec": {
   "display_name": "Python 3",
   "language": "python",
   "name": "python3"
  },
  "language_info": {
   "codemirror_mode": {
    "name": "ipython",
    "version": 3
   },
   "file_extension": ".py",
   "mimetype": "text/x-python",
   "name": "python",
   "nbconvert_exporter": "python",
   "pygments_lexer": "ipython3",
   "version": "3.8.10"
  }
 },
 "nbformat": 4,
 "nbformat_minor": 4
}
